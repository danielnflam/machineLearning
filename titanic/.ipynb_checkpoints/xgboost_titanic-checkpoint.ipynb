{
 "cells": [
  {
   "cell_type": "code",
   "execution_count": 1,
   "metadata": {},
   "outputs": [],
   "source": [
    "import xgboost as xgb\n",
    "import pandas as pd\n",
    "import numpy  as np\n",
    "import os\n",
    "import statsmodels\n",
    "import matplotlib\n",
    "import seaborn as sns\n",
    "\n",
    "\n",
    "train_file = './data/titanic/train.csv'\n",
    "test_file = './data/titanic/test.csv'"
   ]
  },
  {
   "cell_type": "code",
   "execution_count": 2,
   "metadata": {},
   "outputs": [],
   "source": [
    "trainDF = pd.read_csv(train_file)\n",
    "testDF = pd.read_csv(test_file)"
   ]
  },
  {
   "cell_type": "code",
   "execution_count": 3,
   "metadata": {},
   "outputs": [],
   "source": [
    "# FEATURE ENGINEERING\n",
    "# NAMES ande likely NOT imortant, nor is Ticket Number\n",
    "cols_of_interest = ['Pclass','Sex','Age','SibSp','Parch','Fare']\n",
    "noNaNEmbarked = np.array(~trainDF['Age'].isna())\n",
    "\n",
    "y = trainDF['Survived'].loc[noNaNEmbarked]\n",
    "X = trainDF[cols_of_interest].loc[noNaNEmbarked]\n",
    "\n",
    "X.shape\n",
    "y_train = np.array(y)"
   ]
  },
  {
   "cell_type": "code",
   "execution_count": 4,
   "metadata": {},
   "outputs": [],
   "source": [
    "import sklearn as skl\n",
    "from sklearn.preprocessing import OneHotEncoder, StandardScaler\n",
    "from sklearn.impute import SimpleImputer\n",
    "from sklearn.pipeline import Pipeline\n",
    "from sklearn.compose import ColumnTransformer\n",
    "# Imputation is to replace NaN/None values with something else, in this case the string 'MISSING'\n",
    "# OHE encodes categorical data\n",
    "# Pipeline combines these operations into 1 \"pipe\"\n"
   ]
  },
  {
   "cell_type": "code",
   "execution_count": 5,
   "metadata": {},
   "outputs": [
    {
     "data": {
      "text/plain": [
       "<matplotlib.axes._subplots.AxesSubplot at 0x12061f54240>"
      ]
     },
     "execution_count": 5,
     "metadata": {},
     "output_type": "execute_result"
    },
    {
     "data": {
      "image/png": "[encoded data removed]",
      "text/plain": [
       "<Figure size 432x288 with 2 Axes>"
      ]
     },
     "metadata": {
      "needs_background": "light"
     },
     "output_type": "display_data"
    }
   ],
   "source": [
    "# Pandas table contains both numeric and string/\"object\" quantities\n",
    "X.dtypes\n",
    "# All columns that are NOT object will be numeric\n",
    "kinds = np.array([dt.kind for dt in X.dtypes])\n",
    "isnumeric = kinds !='O'\n",
    "\n",
    "# Table data\n",
    "all_cols= X.columns.values\n",
    "numeric_cols = all_cols[isnumeric]\n",
    "cat_cols = all_cols[~isnumeric]\n",
    "\n",
    "#pd.plotting.scatter_matrix(X);\n",
    "# Not very strong linear correlation\n",
    "\n",
    "\n",
    "# Check stratification of survival y.value_counts()\n",
    "# fairly balanced\n",
    "sns.heatmap(X.corr() , annot=True , cmap='coolwarm')"
   ]
  },
  {
   "cell_type": "code",
   "execution_count": 6,
   "metadata": {},
   "outputs": [],
   "source": [
    "# FOR CATEGORICAL DATA\n",
    "cat_si_step = ('si', SimpleImputer(strategy='constant',\n",
    "                fill_value='MISSING'))\n",
    "cat_ohe_step = ('ohe', OneHotEncoder(sparse=False,\n",
    "                handle_unknown='ignore'))\n",
    "cat_steps = [cat_si_step, cat_ohe_step]\n",
    "cat_pipe = Pipeline(cat_steps)\n"
   ]
  },
  {
   "cell_type": "code",
   "execution_count": 7,
   "metadata": {},
   "outputs": [],
   "source": [
    "# For NUMERICAL DATA\n",
    "num_si_step = ('si', SimpleImputer(strategy='median')) # replace NaN with median values\n",
    "# make mean go to zero and scale variance to 1\n",
    "# Important for removing bias for variables with larger scale\n",
    "num_ss_step = ('ss', StandardScaler())\n",
    "\n",
    "num_steps = [num_si_step, num_ss_step]\n",
    "num_pipe = Pipeline(num_steps)"
   ]
  },
  {
   "cell_type": "code",
   "execution_count": 8,
   "metadata": {},
   "outputs": [
    {
     "data": {
      "text/plain": [
       "(418, 7)"
      ]
     },
     "execution_count": 8,
     "metadata": {},
     "output_type": "execute_result"
    }
   ],
   "source": [
    "# Put into ColumnTransformer\n",
    "transformers = [('cat', cat_pipe, cat_cols) , ('num', num_pipe, numeric_cols)]\n",
    "ct = ColumnTransformer(transformers=transformers)\n",
    "\n",
    "X_train_ct = ct.fit_transform(X)\n",
    "X_train_ct.shape\n",
    "X_validation = ct.fit_transform(testDF[cols_of_interest])\n",
    "X_validation.shape"
   ]
  },
  {
   "cell_type": "code",
   "execution_count": null,
   "metadata": {},
   "outputs": [],
   "source": [
    "# Using xgboost.\n",
    "# Transform data into DMatrix for optimised behaviour\n",
    "dtrain = xgb.DMatrix(data=X_train_ct,label=y_train)\n",
    "\n",
    "# Split into Train and Test\n",
    "from sklearn.model_selection import train_test_split\n",
    "X_train_cv, X_test_cv, y_train_cv, y_test_cv = train_test_split(X_train_ct, y_train, test_size=0.2, random_state=123)\n",
    "\n",
    "# Classification Problem\n",
    "model = xgb.XGBClassifier(objective=\"binary:logistic\" , booster='dart' , reg_alpha=1 , reg_lambda=1, learning_rate=1 , \n",
    "                             max_depth=4, n_estimators=2000, gamma=0.05)\n",
    "\n",
    "# Predict Single\n",
    "model.fit(X_train_cv,y_train_cv)\n",
    "preds = model.predict(X_test_cv)\n",
    "score = sum([1 if y_test_cv[i]==preds[i] else 0 for i in range(len(y_test_cv))])/len(y_test_cv)\n",
    "print(score)"
   ]
  },
  {
   "cell_type": "code",
   "execution_count": 10,
   "metadata": {},
   "outputs": [
    {
     "name": "stdout",
     "output_type": "stream",
     "text": [
      "0.8179381846635367\n"
     ]
    }
   ],
   "source": [
    "# Cross Validation\n",
    "# Use SCIKITLEARN CV\n",
    "from sklearn.model_selection import StratifiedKFold, cross_val_score\n",
    "kfold = StratifiedKFold(n_splits=10, random_state=7)\n",
    "mean_score = cross_val_score(model, X_train_ct, y_train ,cv=kfold).mean()\n",
    "print(mean_score)"
   ]
  },
  {
   "cell_type": "code",
   "execution_count": 11,
   "metadata": {},
   "outputs": [],
   "source": [
    "# Make a prediction using the model.\n",
    "preds = model.predict(X_validation)\n",
    "\n",
    "# Back to Pandas\n",
    "testDF.head()\n",
    "pID = testDF['PassengerId']\n",
    "solution_dict = {'PassengerId':pID, 'Survived':preds}\n",
    "solutionDF = pd.DataFrame(solution_dict)\n",
    "solutionDF.to_csv('solution.csv', index=False)"
   ]
  }
 ],
 "metadata": {
  "kernelspec": {
   "display_name": "Python 3",
   "language": "python",
   "name": "python3"
  },
  "language_info": {
   "codemirror_mode": {
    "name": "ipython",
    "version": 3
   },
   "file_extension": ".py",
   "mimetype": "text/x-python",
   "name": "python",
   "nbconvert_exporter": "python",
   "pygments_lexer": "ipython3",
   "version": "3.6.9"
  }
 },
 "nbformat": 4,
 "nbformat_minor": 2
}
