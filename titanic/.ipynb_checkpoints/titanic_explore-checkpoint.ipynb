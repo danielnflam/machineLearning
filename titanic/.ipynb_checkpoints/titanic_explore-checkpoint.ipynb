{
 "cells": [
  {
   "cell_type": "code",
   "execution_count": 1,
   "metadata": {},
   "outputs": [],
   "source": [
    "import xgboost as xgb\n",
    "import pandas as pd\n",
    "import numpy  as np\n",
    "import os\n",
    "import statsmodels\n",
    "import matplotlib.pyplot as plt\n",
    "import seaborn as sns\n",
    "\n",
    "\n",
    "train_file = './data/titanic/train.csv'\n",
    "test_file = './data/titanic/test.csv'"
   ]
  },
  {
   "cell_type": "code",
   "execution_count": 2,
   "metadata": {},
   "outputs": [
    {
     "name": "stdout",
     "output_type": "stream",
     "text": [
      "<class 'pandas.core.frame.DataFrame'>\n",
      "RangeIndex: 418 entries, 0 to 417\n",
      "Data columns (total 11 columns):\n",
      "PassengerId    418 non-null int64\n",
      "Pclass         418 non-null int64\n",
      "Name           418 non-null object\n",
      "Sex            418 non-null object\n",
      "Age            332 non-null float64\n",
      "SibSp          418 non-null int64\n",
      "Parch          418 non-null int64\n",
      "Ticket         418 non-null object\n",
      "Fare           417 non-null float64\n",
      "Cabin          91 non-null object\n",
      "Embarked       418 non-null object\n",
      "dtypes: float64(2), int64(4), object(5)\n",
      "memory usage: 36.0+ KB\n",
      "None\n",
      "        Survived\n",
      "Pclass          \n",
      "1       0.629630\n",
      "2       0.472826\n",
      "3       0.242363\n",
      "        Survived\n",
      "Sex             \n",
      "female  0.742038\n",
      "male    0.188908\n",
      "        Survived\n",
      "Sex             \n",
      "female  0.742038\n",
      "male    0.188908\n",
      "            Survived\n",
      "FamilySize          \n",
      "1           0.303538\n",
      "2           0.552795\n",
      "3           0.578431\n",
      "4           0.724138\n",
      "5           0.200000\n",
      "6           0.136364\n",
      "7           0.333333\n",
      "8           0.000000\n",
      "11          0.000000\n",
      "         Survived\n",
      "IsAlone          \n",
      "0        0.505650\n",
      "1        0.303538\n",
      "                      Survived\n",
      "TicketClassIntervals          \n",
      "(-0.001, 7.91]        0.197309\n",
      "(7.91, 14.454]        0.303571\n",
      "(14.454, 31.0]        0.454955\n",
      "(31.0, 512.329]       0.581081\n",
      "<class 'pandas.core.frame.DataFrame'>\n",
      "RangeIndex: 418 entries, 0 to 417\n",
      "Data columns (total 15 columns):\n",
      "PassengerId             418 non-null int64\n",
      "Pclass                  418 non-null int64\n",
      "Name                    418 non-null object\n",
      "Sex                     418 non-null object\n",
      "Age                     332 non-null float64\n",
      "SibSp                   418 non-null int64\n",
      "Parch                   418 non-null int64\n",
      "Ticket                  418 non-null object\n",
      "Fare                    418 non-null float64\n",
      "Cabin                   91 non-null object\n",
      "Embarked                418 non-null object\n",
      "FamilySize              418 non-null int64\n",
      "IsAlone                 418 non-null int64\n",
      "TicketClassIntervals    418 non-null category\n",
      "AgeCategoryIntervals    335 non-null category\n",
      "dtypes: category(2), float64(2), int64(6), object(5)\n",
      "memory usage: 43.8+ KB\n",
      "None\n"
     ]
    }
   ],
   "source": [
    "trainDF = pd.read_csv(train_file)\n",
    "testDF = pd.read_csv(test_file)\n",
    "full_data = [trainDF, testDF]\n",
    "\n",
    "print(testDF.info())\n",
    "print (trainDF[['Pclass', 'Survived']].groupby(['Pclass'], as_index=True).mean())\n",
    "print (trainDF[['Sex', 'Survived']].groupby(['Sex'], as_index=True).mean())\n",
    "\n",
    "# Family Size -- combine SibSp and Parch\n",
    "for dataset in full_data:\n",
    "    dataset['FamilySize'] = dataset['SibSp']+dataset['Parch']+1\n",
    "    dataset['IsAlone'] = 0\n",
    "    dataset.loc[dataset['FamilySize'] == 1, 'IsAlone'] = 1\n",
    "\n",
    "# Embarked\n",
    "# Go for mean\n",
    "for dataset in full_data:\n",
    "    dataset['Embarked'] = dataset['Embarked'].fillna(dataset['Embarked'].mode())\n",
    "\n",
    "# Fare is a function of ticket class\n",
    "# Make variables that result in a normalised/linear distribution when histogrammed v.s. survival\n",
    "for dataset in full_data:\n",
    "    dataset['Fare'] = dataset['Fare'].fillna(dataset['Fare'].median())\n",
    "    dataset['TicketClassIntervals'] = pd.qcut(trainDF['Fare'],4)\n",
    "    dataset['AgeCategoryIntervals'] = pd.qcut(trainDF['Age'],4)\n",
    "\n",
    "print (trainDF[['Sex', 'Survived']].groupby(['Sex'], as_index=True).mean())\n",
    "print (trainDF[['FamilySize', 'Survived']].groupby(['FamilySize'], as_index=True).mean())\n",
    "print (trainDF[['IsAlone', 'Survived']].groupby(['IsAlone'], as_index=True).mean())\n",
    "print (trainDF[['TicketClassIntervals', 'Survived']].groupby(['TicketClassIntervals'], as_index=True).mean())\n",
    "print(testDF.info())"
   ]
  },
  {
   "cell_type": "code",
   "execution_count": 3,
   "metadata": {},
   "outputs": [
    {
     "name": "stdout",
     "output_type": "stream",
     "text": [
      "PassengerId               0\n",
      "Survived                  0\n",
      "Pclass                    0\n",
      "Name                      0\n",
      "Sex                       0\n",
      "Age                     177\n",
      "SibSp                     0\n",
      "Parch                     0\n",
      "Ticket                    0\n",
      "Fare                      0\n",
      "Cabin                   687\n",
      "Embarked                  2\n",
      "FamilySize                0\n",
      "IsAlone                   0\n",
      "TicketClassIntervals      0\n",
      "AgeCategoryIntervals    177\n",
      "dtype: int64\n",
      "Number of NaNs in Age: 177\n"
     ]
    }
   ],
   "source": [
    "# FEATURE ENGINEERING -- AGE\n",
    "noNaNAge = np.array(~trainDF['Age'].isna())\n",
    "print(np.sum(trainDF.isna()))\n",
    "print(\"Number of NaNs in Age: {}\".format((len(noNaNAge)-sum(noNaNAge))))\n",
    "\n",
    "y_noNaNAge = trainDF['Age'].loc[noNaNAge]\n",
    "X_noNaNAge = trainDF.loc[noNaNAge]"
   ]
  },
  {
   "cell_type": "markdown",
   "metadata": {},
   "source": [
    "Need to impute the Age"
   ]
  },
  {
   "cell_type": "code",
   "execution_count": 4,
   "metadata": {},
   "outputs": [
    {
     "name": "stdout",
     "output_type": "stream",
     "text": [
      "     PassengerId  Survived  Pclass  \\\n",
      "0              1         0       3   \n",
      "1              2         1       1   \n",
      "2              3         1       3   \n",
      "3              4         1       1   \n",
      "4              5         0       3   \n",
      "..           ...       ...     ...   \n",
      "886          887         0       2   \n",
      "887          888         1       1   \n",
      "888          889         0       3   \n",
      "889          890         1       1   \n",
      "890          891         0       3   \n",
      "\n",
      "                                                  Name  Sex   Age  SibSp  \\\n",
      "0                              Braund, Mr. Owen Harris    0  22.0      1   \n",
      "1    Cumings, Mrs. John Bradley (Florence Briggs Th...    1  38.0      1   \n",
      "2                               Heikkinen, Miss. Laina    1  26.0      0   \n",
      "3         Futrelle, Mrs. Jacques Heath (Lily May Peel)    1  35.0      1   \n",
      "4                             Allen, Mr. William Henry    0  35.0      0   \n",
      "..                                                 ...  ...   ...    ...   \n",
      "886                              Montvila, Rev. Juozas    0  27.0      0   \n",
      "887                       Graham, Miss. Margaret Edith    1  19.0      0   \n",
      "888           Johnston, Miss. Catherine Helen \"Carrie\"    1   NaN      1   \n",
      "889                              Behr, Mr. Karl Howell    0  26.0      0   \n",
      "890                                Dooley, Mr. Patrick    0  32.0      0   \n",
      "\n",
      "     Parch            Ticket     Fare Cabin Embarked  FamilySize  IsAlone  \\\n",
      "0        0         A/5 21171   7.2500   NaN        S           2        0   \n",
      "1        0          PC 17599  71.2833   C85        C           2        0   \n",
      "2        0  STON/O2. 3101282   7.9250   NaN        S           1        1   \n",
      "3        0            113803  53.1000  C123        S           2        0   \n",
      "4        0            373450   8.0500   NaN        S           1        1   \n",
      "..     ...               ...      ...   ...      ...         ...      ...   \n",
      "886      0            211536  13.0000   NaN        S           1        1   \n",
      "887      0            112053  30.0000   B42        S           1        1   \n",
      "888      2        W./C. 6607  23.4500   NaN        S           4        0   \n",
      "889      0            111369  30.0000  C148        C           1        1   \n",
      "890      0            370376   7.7500   NaN        Q           1        1   \n",
      "\n",
      "    TicketClassIntervals AgeCategoryIntervals  TicketClass  \n",
      "0         (-0.001, 7.91]       (20.125, 28.0]            0  \n",
      "1        (31.0, 512.329]         (28.0, 38.0]            3  \n",
      "2         (7.91, 14.454]       (20.125, 28.0]            1  \n",
      "3        (31.0, 512.329]         (28.0, 38.0]            3  \n",
      "4         (7.91, 14.454]         (28.0, 38.0]            1  \n",
      "..                   ...                  ...          ...  \n",
      "886       (7.91, 14.454]       (20.125, 28.0]            1  \n",
      "887       (14.454, 31.0]      (0.419, 20.125]            2  \n",
      "888       (14.454, 31.0]                  NaN            2  \n",
      "889       (14.454, 31.0]       (20.125, 28.0]            2  \n",
      "890       (-0.001, 7.91]         (28.0, 38.0]            0  \n",
      "\n",
      "[891 rows x 17 columns]\n"
     ]
    }
   ],
   "source": [
    "# MAP Fare to Ticket Class\n",
    "TicketClassIntervals = np.unique(trainDF['TicketClassIntervals'])\n",
    "def findTicketClass( A , TicketClassIntervals):\n",
    "    # A is a numpy array\n",
    "    output = np.zeros(A.shape)\n",
    "    for i in range(1, len(TicketClassIntervals)):\n",
    "        boolvec = (A < TicketClassIntervals[i].right) & (A > TicketClassIntervals[i].left)\n",
    "        output[boolvec] = i;\n",
    "        if i == len(TicketClassIntervals)-1:\n",
    "            boolvec = (A > TicketClassIntervals[i].right)\n",
    "            output[boolvec]=3\n",
    "    return output\n",
    "    \n",
    "dataset['TicketClass'] = 0\n",
    "for dataset in full_data:\n",
    "    A = np.array(dataset['Fare'])\n",
    "    dataset['TicketClass'] = findTicketClass(A, TicketClassIntervals).astype('int')\n",
    "\n",
    "for dataset in full_data:\n",
    "    dataset['Sex']=dataset['Sex'].map({'male':0, 'female':1})\n",
    "    \n",
    "print(trainDF)"
   ]
  },
  {
   "cell_type": "code",
   "execution_count": 5,
   "metadata": {},
   "outputs": [
    {
     "name": "stdout",
     "output_type": "stream",
     "text": [
      "0.22120934706457496\n",
      "(177, 16)\n",
      "(86, 15)\n",
      "     PassengerId  Survived  Pclass                                      Name  \\\n",
      "886        887.0       0.0     2.0                     Montvila, Rev. Juozas   \n",
      "887        888.0       1.0     1.0              Graham, Miss. Margaret Edith   \n",
      "888        889.0       0.0     3.0  Johnston, Miss. Catherine Helen \"Carrie\"   \n",
      "889        890.0       1.0     1.0                     Behr, Mr. Karl Howell   \n",
      "890        891.0       0.0     3.0                       Dooley, Mr. Patrick   \n",
      "\n",
      "     Sex        Age  SibSp  Parch      Ticket   Fare Cabin Embarked  \\\n",
      "886  0.0  27.000000    0.0    0.0      211536  13.00   NaN        S   \n",
      "887  1.0  19.000000    0.0    0.0      112053  30.00   B42        S   \n",
      "888  1.0  21.946846    1.0    2.0  W./C. 6607  23.45   NaN        S   \n",
      "889  0.0  26.000000    0.0    0.0      111369  30.00  C148        C   \n",
      "890  0.0  32.000000    0.0    0.0      370376   7.75   NaN        Q   \n",
      "\n",
      "     FamilySize  IsAlone TicketClassIntervals AgeCategoryIntervals  \\\n",
      "886         1.0      1.0       (7.91, 14.454]       (20.125, 28.0]   \n",
      "887         1.0      1.0       (14.454, 31.0]      (0.419, 20.125]   \n",
      "888         4.0      0.0       (14.454, 31.0]                  NaN   \n",
      "889         1.0      1.0       (14.454, 31.0]       (20.125, 28.0]   \n",
      "890         1.0      1.0       (-0.001, 7.91]         (28.0, 38.0]   \n",
      "\n",
      "     TicketClass  \n",
      "886          1.0  \n",
      "887          2.0  \n",
      "888          2.0  \n",
      "889          2.0  \n",
      "890          0.0  \n"
     ]
    },
    {
     "name": "stderr",
     "output_type": "stream",
     "text": [
      "C:\\Users\\Daniel_standard\\.conda\\envs\\ML\\lib\\site-packages\\sklearn\\model_selection\\_split.py:1978: FutureWarning: The default value of cv will change from 3 to 5 in version 0.22. Specify it explicitly to silence this warning.\n",
      "  warnings.warn(CV_WARNING, FutureWarning)\n"
     ]
    }
   ],
   "source": [
    "# Age is correlated with Pclass, SibSp, Parch\n",
    "# Train a linear regressor\n",
    "# then impute those values\n",
    "age_factors = ['Pclass','SibSp', 'Parch']\n",
    "X_noNaNAge_cutdown = X_noNaNAge[age_factors]\n",
    "\n",
    "from sklearn import linear_model\n",
    "# train regressor\n",
    "reg = linear_model.LassoCV()\n",
    "reg.fit(X_noNaNAge_cutdown, y_noNaNAge)\n",
    "print(reg.score(X_noNaNAge_cutdown, y_noNaNAge))\n",
    "\n",
    "# run regressor\n",
    "for dataset in full_data:\n",
    "    NaN_bool = np.array(dataset['Age'].isna())\n",
    "    if np.sum(NaN_bool) == 0:\n",
    "        continue\n",
    "    X_pred = dataset[age_factors].loc[NaN_bool]\n",
    "    y_pred_age = reg.predict(X_pred)\n",
    "    y_pred_age = [0 if i < 0 else i for i in y_pred_age ]\n",
    "    \n",
    "    # Make a new Pandas Table for NaN Ages\n",
    "    X_NaNAges = dataset.loc[NaN_bool].drop('Age',axis='columns')\n",
    "    print(X_NaNAges.shape)\n",
    "    X_NaNAges['Age'] = y_pred_age\n",
    "    X_NaNAges.head()\n",
    "\n",
    "    # Combine NaNAges and noNaNAges\n",
    "    dataset.update(X_NaNAges)\n",
    "# Check no more NaNs\n",
    "print(trainDF.tail())"
   ]
  },
  {
   "cell_type": "code",
   "execution_count": 6,
   "metadata": {},
   "outputs": [
    {
     "data": {
      "image/png": "[encoded data removed]",
      "text/plain": [
       "<Figure size 1008x864 with 2 Axes>"
      ]
     },
     "metadata": {
      "needs_background": "light"
     },
     "output_type": "display_data"
    }
   ],
   "source": [
    "# Check NEW stratification of survival y.value_counts()\n",
    "# fairly balanced\n",
    "colormap = plt.cm.RdBu\n",
    "plt.figure(figsize=(14,12))\n",
    "plt.title('Pearson Correlation of Features', y=1.05, size=15)\n",
    "sns.heatmap(trainDF.corr(),linewidths=0.1,vmax=1.0, \n",
    "            square=True, cmap=colormap, linecolor='white', annot=True)\n",
    "\n",
    "drop_cols = ['PassengerId','Name','Ticket','Cabin','TicketClassIntervals','AgeCategoryIntervals','Parch','SibSp','FamilySize']"
   ]
  },
  {
   "cell_type": "code",
   "execution_count": 7,
   "metadata": {},
   "outputs": [],
   "source": [
    "import sklearn as skl\n",
    "from sklearn.preprocessing import OneHotEncoder, StandardScaler, RobustScaler\n",
    "from sklearn.impute import SimpleImputer\n",
    "from sklearn.pipeline import Pipeline\n",
    "from sklearn.compose import ColumnTransformer\n",
    "# Imputation is to replace NaN/None values with something else, in this case the string 'MISSING'\n",
    "# OHE encodes categorical data\n",
    "# Pipeline combines these operations into 1 \"pipe\"\n"
   ]
  },
  {
   "cell_type": "code",
   "execution_count": 8,
   "metadata": {},
   "outputs": [
    {
     "name": "stdout",
     "output_type": "stream",
     "text": [
      "     Pclass  Sex        Age     Fare Embarked  FamilySize  IsAlone  \\\n",
      "0       3.0  0.0  22.000000   7.2500        S         2.0      0.0   \n",
      "1       1.0  1.0  38.000000  71.2833        C         2.0      0.0   \n",
      "2       3.0  1.0  26.000000   7.9250        S         1.0      1.0   \n",
      "3       1.0  1.0  35.000000  53.1000        S         2.0      0.0   \n",
      "4       3.0  0.0  35.000000   8.0500        S         1.0      1.0   \n",
      "..      ...  ...        ...      ...      ...         ...      ...   \n",
      "886     2.0  0.0  27.000000  13.0000        S         1.0      1.0   \n",
      "887     1.0  1.0  19.000000  30.0000        S         1.0      1.0   \n",
      "888     3.0  1.0  21.946846  23.4500        S         4.0      0.0   \n",
      "889     1.0  0.0  26.000000  30.0000        C         1.0      1.0   \n",
      "890     3.0  0.0  32.000000   7.7500        Q         1.0      1.0   \n",
      "\n",
      "     TicketClass  \n",
      "0            0.0  \n",
      "1            3.0  \n",
      "2            1.0  \n",
      "3            3.0  \n",
      "4            1.0  \n",
      "..           ...  \n",
      "886          1.0  \n",
      "887          2.0  \n",
      "888          2.0  \n",
      "889          2.0  \n",
      "890          0.0  \n",
      "\n",
      "[891 rows x 8 columns]\n"
     ]
    }
   ],
   "source": [
    "# Pandas table contains both numeric and string/\"object\" quantities\n",
    "y_train = trainDF['Survived']\n",
    "X = trainDF.drop(drop_cols, axis='columns')\n",
    "X_train = X.drop('Survived',axis='columns')\n",
    "print(X_train)\n",
    "X_test = testDF.drop(drop_cols, axis='columns')\n",
    "\n",
    "X_train.dtypes\n",
    "# All columns that are NOT object will be numeric\n",
    "kinds = np.array([dt.kind for dt in X_train.dtypes])\n",
    "isnumeric = kinds !='O'\n",
    "\n",
    "# Table data\n",
    "all_cols= X_train.columns.values\n",
    "numeric_cols = all_cols[isnumeric]\n",
    "cat_cols = all_cols[~isnumeric]\n",
    "\n",
    "#pd.plotting.scatter_matrix(X);\n",
    "# Not very strong linear correlation\n",
    "\n"
   ]
  },
  {
   "cell_type": "code",
   "execution_count": 9,
   "metadata": {},
   "outputs": [],
   "source": [
    "# FOR CATEGORICAL DATA\n",
    "cat_si_step = ('si', SimpleImputer(strategy='constant',\n",
    "                fill_value='MISSING'))\n",
    "cat_ohe_step = ('ohe', OneHotEncoder(sparse=False,\n",
    "                handle_unknown='ignore'))\n",
    "cat_steps = [cat_si_step, cat_ohe_step]\n",
    "cat_pipe = Pipeline(cat_steps)\n"
   ]
  },
  {
   "cell_type": "code",
   "execution_count": 10,
   "metadata": {},
   "outputs": [],
   "source": [
    "# For NUMERICAL DATA\n",
    "#num_si_step = ('si', SimpleImputer(strategy='median')) # replace NaN with median values\n",
    "# make mean go to zero and scale variance to 1\n",
    "# Important for removing bias for variables with larger scale\n",
    "num_ss_step = ('ss', RobustScaler())\n",
    "\n",
    "num_steps = [ num_ss_step]\n",
    "num_pipe = Pipeline(num_steps)"
   ]
  },
  {
   "cell_type": "code",
   "execution_count": 11,
   "metadata": {},
   "outputs": [
    {
     "name": "stdout",
     "output_type": "stream",
     "text": [
      "          Pclass  Sex  Age  Fare  FamilySize  IsAlone  TicketClass\n",
      "Embarked                                                          \n",
      "C            168  168  168   168         168      168          168\n",
      "Q             77   77   77    77          77       77           77\n",
      "S            644  644  644   644         644      644          644\n"
     ]
    }
   ],
   "source": [
    "# Put into ColumnTransformer\n",
    "transformers = [('cat', cat_pipe, cat_cols) , ('num', num_pipe, numeric_cols)]\n",
    "ct = ColumnTransformer(transformers=transformers)\n",
    "\n",
    "X_train_ct = ct.fit_transform(X_train)\n",
    "X_train_ct.shape\n",
    "# ONLY transform the test set -- no fitting\n",
    "X_validation = ct.transform(X_test)\n",
    "X_validation.shape\n",
    "\n",
    "print(X_train.groupby(['Embarked']).count())"
   ]
  },
  {
   "cell_type": "code",
   "execution_count": 12,
   "metadata": {},
   "outputs": [
    {
     "data": {
      "text/plain": [
       "XGBClassifier(base_score=0.5, booster='dart', colsample_bylevel=1,\n",
       "              colsample_bynode=1, colsample_bytree=1, gamma=0.05,\n",
       "              learning_rate=1, max_delta_step=0, max_depth=4,\n",
       "              min_child_weight=1, missing=None, n_estimators=2000, n_jobs=1,\n",
       "              nthread=None, objective='binary:logistic', random_state=0,\n",
       "              reg_alpha=1, reg_lambda=1, scale_pos_weight=1, seed=None,\n",
       "              silent=None, subsample=1, verbosity=1)"
      ]
     },
     "execution_count": 12,
     "metadata": {},
     "output_type": "execute_result"
    }
   ],
   "source": [
    "# Make a Class for ensembling different methods\n",
    "import sklearn\n",
    "\n",
    "\n",
    "# Using xgboost.\n",
    "# Transform data into DMatrix for optimised behaviour\n",
    "dtrain = xgb.DMatrix(data=X_train_ct,label=y_train)\n",
    "\n",
    "# Split into Train and Test\n",
    "from sklearn.model_selection import train_test_split\n",
    "X_train_cv, X_test_cv, y_train_cv, y_test_cv = train_test_split(X_train_ct, y_train, test_size=0.2, random_state=123)\n",
    "\n",
    "# Classification Problem\n",
    "model = xgb.XGBClassifier(objective=\"binary:logistic\" , booster='dart' , reg_alpha=1 , reg_lambda=1, learning_rate=1 , \n",
    "                            max_depth=4, n_estimators=2000, gamma=0.05)\n",
    "\n",
    "# Train on ALL DATA\n",
    "model.fit(X_train_ct,y_train)\n",
    "\n",
    "#score = sum([1 if y_test_cv.iloc[i] == preds[i] else 0 for i in range(len(y_test_cv))])/len(y_test_cv)\n",
    "#print(score)"
   ]
  },
  {
   "cell_type": "code",
   "execution_count": 13,
   "metadata": {},
   "outputs": [
    {
     "name": "stdout",
     "output_type": "stream",
     "text": [
      "0.9888268156424581\n"
     ]
    }
   ],
   "source": [
    "from sklearn.neighbors import KNeighborsClassifier\n",
    "from sklearn.svm import SVC\n",
    "from sklearn.gaussian_process import GaussianProcessClassifier\n",
    "from sklearn.gaussian_process.kernels import RBF\n",
    "from sklearn.tree import DecisionTreeClassifier\n",
    "from sklearn.ensemble import RandomForestClassifier, AdaBoostClassifier\n",
    "from sklearn.naive_bayes import GaussianNB\n",
    "from sklearn.discriminant_analysis import QuadraticDiscriminantAnalysis\n",
    "\n",
    "# Let's Make a CLASS to ENSEMBLE classifiers\n",
    "class ClassifierHelper:\n",
    "    def __init__(self, X, y):\n",
    "        self.X = X\n",
    "        self.y = y\n",
    "    def setup(self):\n",
    "        self.clf = [RandomForestClassifier(n_estimators=1000)]\n",
    "        #[KNeighborsClassifier(), SVC() ,\n",
    "        #            RandomForestClassifier(n_estimators=1000), AdaBoostClassifier(),\n",
    "        #            xgb.XGBClassifier(n_estimators=1000)]\n",
    "    def fit(self, X=None,y=None):\n",
    "        if X is not None:\n",
    "            X_i = X\n",
    "        else:\n",
    "            X_i = self.X\n",
    "        if y is not None:\n",
    "            y_i = y\n",
    "        else:\n",
    "            y_i = self.y\n",
    "        self.fitted_CLF = []\n",
    "        for clf in self.clf:\n",
    "            temp_fitted_CLF = clf.fit(X_i,y_i)\n",
    "            self.fitted_CLF.append(temp_fitted_CLF)\n",
    "    def predict(self,X):\n",
    "        pred_matrix = [];\n",
    "        for clf in self.fitted_CLF:\n",
    "            pred = clf.predict(X)\n",
    "            pred_matrix.append(pred)\n",
    "        return pred_matrix\n",
    "\n",
    "clfs = ClassifierHelper(X_train_ct, y_train)\n",
    "clfs.setup()\n",
    "clfs.fit()\n",
    "preds_test = clfs.predict(X_test_cv)\n",
    "preds = (np.mean(preds_test, axis=0) > 0)\n",
    "print(np.mean([1 if preds[i]==y_test_cv.iloc[i] else 0 for i in range(len(y_test_cv))]))\n",
    "\n",
    "preds_matrix = clfs.predict(X_validation)\n"
   ]
  },
  {
   "cell_type": "code",
   "execution_count": 14,
   "metadata": {},
   "outputs": [
    {
     "data": {
      "text/plain": [
       "'\\nfrom sklearn.model_selection import StratifiedKFold, cross_val_score\\nkfold = StratifiedKFold(n_splits=10, random_state=7)\\nmean_score = cross_val_score(model, X_train_ct, y_train ,cv=kfold).mean()\\nprint(mean_score)\\npreds = model.predict(X_validation)\\n'"
      ]
     },
     "execution_count": 14,
     "metadata": {},
     "output_type": "execute_result"
    }
   ],
   "source": [
    "# Cross Validation\n",
    "# Use SCIKITLEARN CV\n",
    "'''\n",
    "from sklearn.model_selection import StratifiedKFold, cross_val_score\n",
    "kfold = StratifiedKFold(n_splits=10, random_state=7)\n",
    "mean_score = cross_val_score(model, X_train_ct, y_train ,cv=kfold).mean()\n",
    "print(mean_score)\n",
    "preds = model.predict(X_validation)\n",
    "'''"
   ]
  },
  {
   "cell_type": "code",
   "execution_count": 15,
   "metadata": {},
   "outputs": [],
   "source": [
    "# Make a prediction using the model.\n",
    "preds = (np.mean(preds_matrix, axis=0) > 0)\n",
    "\n",
    "# Back to Pandas\n",
    "testDF.head()\n",
    "pID = testDF['PassengerId'].astype('int')\n",
    "preds = preds.astype('int')\n",
    "solution_dict = {'PassengerId':pID, 'Survived':preds}\n",
    "solutionDF = pd.DataFrame(solution_dict)\n",
    "solutionDF.to_csv('solution.csv', index=False)"
   ]
  }
 ],
 "metadata": {
  "kernelspec": {
   "display_name": "Python 3",
   "language": "python",
   "name": "python3"
  },
  "language_info": {
   "codemirror_mode": {
    "name": "ipython",
    "version": 3
   },
   "file_extension": ".py",
   "mimetype": "text/x-python",
   "name": "python",
   "nbconvert_exporter": "python",
   "pygments_lexer": "ipython3",
   "version": "3.6.9"
  }
 },
 "nbformat": 4,
 "nbformat_minor": 2
}
